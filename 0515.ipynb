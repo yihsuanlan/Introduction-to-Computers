{
  "nbformat": 4,
  "nbformat_minor": 0,
  "metadata": {
    "colab": {
      "provenance": [],
      "authorship_tag": "ABX9TyO6eEEDqJyrF046gSaUzClW",
      "include_colab_link": true
    },
    "kernelspec": {
      "name": "python3",
      "display_name": "Python 3"
    },
    "language_info": {
      "name": "python"
    }
  },
  "cells": [
    {
      "cell_type": "markdown",
      "metadata": {
        "id": "view-in-github",
        "colab_type": "text"
      },
      "source": [
        "<a href=\"https://colab.research.google.com/github/yihsuanlan/Introduction-to-Computers/blob/main/0515.ipynb\" target=\"_parent\"><img src=\"https://colab.research.google.com/assets/colab-badge.svg\" alt=\"Open In Colab\"/></a>"
      ]
    },
    {
      "cell_type": "code",
      "execution_count": 1,
      "metadata": {
        "colab": {
          "base_uri": "https://localhost:8080/"
        },
        "id": "K-F78EOVQwkz",
        "outputId": "4abac066-1c63-4ff2-8f93-0fa6ec313c77"
      },
      "outputs": [
        {
          "output_type": "stream",
          "name": "stdout",
          "text": [
            "0515\n"
          ]
        }
      ],
      "source": [
        "print('0515')"
      ]
    },
    {
      "cell_type": "code",
      "source": [
        "print( \"請輸入 N , n , Y , y \")\n",
        "r = str ( input ( \"今天會下雨嗎?\"))\n",
        "if ( r == \"y\" or r == \"Y\") :\n",
        "  print (\" 出門記得帶傘!\")\n",
        "elif ( r == \"n\" or r == \"N\") :\n",
        "  print ( \" 不用帶傘! \")\n",
        "else:\n",
        "  print (\"請重新輸入\")"
      ],
      "metadata": {
        "colab": {
          "base_uri": "https://localhost:8080/"
        },
        "id": "OIOUo4k4Q8Ko",
        "outputId": "0b8b9dfa-7012-4fec-8cd1-3a850f108730"
      },
      "execution_count": 30,
      "outputs": [
        {
          "output_type": "stream",
          "name": "stdout",
          "text": [
            "請輸入 N , n , Y , y \n",
            "今天會下雨嗎?n\n",
            " 不用帶傘! \n"
          ]
        }
      ]
    },
    {
      "cell_type": "code",
      "source": [
        "t = float ( input ( \" 請輸入體溫: \"))\n",
        "if t >= 37.5 :\n",
        "  print (\" 體溫過高!\")\n",
        "elif t >= 37 :\n",
        "  print (\" 體溫略高!\")\n",
        "elif t >= 34 :\n",
        "  print (\" 體溫正常! \")\n",
        "else :\n",
        "  print ( \" 體溫異常，請重新測量! \")"
      ],
      "metadata": {
        "colab": {
          "base_uri": "https://localhost:8080/"
        },
        "id": "8NiZR8gRUBJ0",
        "outputId": "31a5f252-8a8a-4109-f5fa-6638220b8662"
      },
      "execution_count": 32,
      "outputs": [
        {
          "output_type": "stream",
          "name": "stdout",
          "text": [
            " 請輸入體溫: 37\n",
            " 體溫略高!\n"
          ]
        }
      ]
    },
    {
      "cell_type": "code",
      "source": [
        "score = int(input(\"請輸入成績: \"))\n",
        "if score >= 90 :\n",
        "  print ( 'A' )\n",
        "elif score >= 80 :\n",
        "  print ( 'B' )\n",
        "elif score >= 70 :\n",
        "  print ( 'C' )\n",
        "elif score >= 60 :\n",
        "  print ( 'D' )\n",
        "else:\n",
        "  print ( 'E' )"
      ],
      "metadata": {
        "colab": {
          "base_uri": "https://localhost:8080/"
        },
        "id": "lwxt1i24UB4O",
        "outputId": "512e8610-ad18-4b91-cbfe-c4ca4edadbf2"
      },
      "execution_count": 12,
      "outputs": [
        {
          "output_type": "stream",
          "name": "stdout",
          "text": [
            "請輸入成績: 80\n",
            "B\n"
          ]
        }
      ]
    },
    {
      "cell_type": "code",
      "source": [
        "m = int ( input ( \" 請輸入月份: \"))\n",
        "if ( m == 3 or m == 4 or m == 5 ) :\n",
        "  print ( m , \" 月是春天! \")\n",
        "elif ( m == 6 or m == 7 or m == 8 ) :\n",
        "  print ( m , \" 月是夏天! \")\n",
        "elif ( m == 9 or m == 10 or m == 11 ) :\n",
        "  print ( m , \" 月是秋天! \")\n",
        "elif ( m == 12 or m == 1 or m == 2 ) :\n",
        "  print ( m , \" 月是冬天! \")\n",
        "else:\n",
        "  print( \" 月份不在範圍內! \")"
      ],
      "metadata": {
        "colab": {
          "base_uri": "https://localhost:8080/"
        },
        "id": "z_sKLdoPUCGg",
        "outputId": "18e9ab6a-f326-4fb2-9596-655217ba755b"
      },
      "execution_count": 26,
      "outputs": [
        {
          "output_type": "stream",
          "name": "stdout",
          "text": [
            " 請輸入月份: 10\n",
            "10  月是秋天! \n"
          ]
        }
      ]
    },
    {
      "cell_type": "code",
      "source": [
        "i = int ( input ( \"請輸入今年收入淨額: \"))\n",
        "if i >= 2000000 :\n",
        "  tax = i * 0.3\n",
        "  print( \" 付稅金額:\" , tax , \" 元 \")\n",
        "elif i >= 1000000 :\n",
        "  tax = i * 0.21\n",
        "  print( \" 付稅金額:\" , tax , \" 元 \")\n",
        "elif i >= 600000 :\n",
        "  tax = i * 0.13\n",
        "  print( \" 付稅金額:\" , tax , \" 元 \")\n",
        "elif i >= 300000 :\n",
        "  tax = i * 0.06\n",
        "  print( \" 付稅金額:\" , tax , \" 元 \")\n",
        "else :\n",
        "  tax = i * 0\n",
        "  print( \" 付稅金額:\" , tax , \" 元 \")"
      ],
      "metadata": {
        "colab": {
          "base_uri": "https://localhost:8080/"
        },
        "id": "LH_kJ6BdUCZU",
        "outputId": "7a7430fa-128e-4ea2-ab73-785a6af98902"
      },
      "execution_count": 38,
      "outputs": [
        {
          "output_type": "stream",
          "name": "stdout",
          "text": [
            "請輸入今年收入淨額: 2000000\n",
            " 付稅金額: 600000.0  元 \n"
          ]
        }
      ]
    }
  ]
}