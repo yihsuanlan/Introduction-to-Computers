{
  "nbformat": 4,
  "nbformat_minor": 0,
  "metadata": {
    "colab": {
      "provenance": [],
      "authorship_tag": "ABX9TyMhKpOXcxOClJw5H4UxRgRt",
      "include_colab_link": true
    },
    "kernelspec": {
      "name": "python3",
      "display_name": "Python 3"
    },
    "language_info": {
      "name": "python"
    }
  },
  "cells": [
    {
      "cell_type": "markdown",
      "metadata": {
        "id": "view-in-github",
        "colab_type": "text"
      },
      "source": [
        "<a href=\"https://colab.research.google.com/github/yihsuanlan/Introduction-to-Computers/blob/main/0508.ipynb\" target=\"_parent\"><img src=\"https://colab.research.google.com/assets/colab-badge.svg\" alt=\"Open In Colab\"/></a>"
      ]
    },
    {
      "cell_type": "code",
      "execution_count": 1,
      "metadata": {
        "colab": {
          "base_uri": "https://localhost:8080/"
        },
        "id": "P1yTcfLIPaz8",
        "outputId": "7398108a-97b7-4147-87a3-51da41842ab5"
      },
      "outputs": [
        {
          "output_type": "stream",
          "name": "stdout",
          "text": [
            "0508\n"
          ]
        }
      ],
      "source": [
        "print(\"0508\")"
      ]
    },
    {
      "cell_type": "code",
      "source": [
        "score = int ( input ( \"請輸入分數: \"))\n",
        "if score >= 60 :\n",
        "  print( '及格' )\n",
        "else : \n",
        "  print ( \"不及格\" )"
      ],
      "metadata": {
        "colab": {
          "base_uri": "https://localhost:8080/"
        },
        "id": "8_58TK85PtpI",
        "outputId": "74b6a69c-285c-428a-daa8-87595f27a381"
      },
      "execution_count": 4,
      "outputs": [
        {
          "output_type": "stream",
          "name": "stdout",
          "text": [
            "請輸入分數: 40\n",
            "不及格\n"
          ]
        }
      ]
    },
    {
      "cell_type": "code",
      "source": [
        "m = int ( input ( \"請輸入密碼: \"))\n",
        "if m == 1234 :\n",
        "  print ( \"密碼正確! \")\n",
        "else :\n",
        "  print ( \"密碼錯誤! \")"
      ],
      "metadata": {
        "colab": {
          "base_uri": "https://localhost:8080/"
        },
        "id": "V6Rayn-bSttN",
        "outputId": "a6d89f61-6cde-40ea-af19-47812c44f437"
      },
      "execution_count": 14,
      "outputs": [
        {
          "output_type": "stream",
          "name": "stdout",
          "text": [
            "請輸入密碼: 4565\n",
            "密碼錯誤! \n"
          ]
        }
      ]
    },
    {
      "cell_type": "code",
      "source": [
        "c = int ( input ( \"請輸入正整數: \"))\n",
        "n = c / 2\n",
        "if n == 0 :\n",
        "  print ( c ,\"為偶數!\" )\n",
        "else :\n",
        "  print ( c , \"為奇數!\" )"
      ],
      "metadata": {
        "colab": {
          "base_uri": "https://localhost:8080/"
        },
        "id": "NbnuNQbqVuFq",
        "outputId": "d0fc7708-5488-4ef8-bbf9-0a74d77ac5b4"
      },
      "execution_count": 18,
      "outputs": [
        {
          "output_type": "stream",
          "name": "stdout",
          "text": [
            "請輸入正整數: 89\n",
            "89 為奇數!\n"
          ]
        }
      ]
    }
  ]
}